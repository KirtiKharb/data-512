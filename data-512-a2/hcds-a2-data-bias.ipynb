{
  "nbformat": 4,
  "nbformat_minor": 0,
  "metadata": {
    "colab": {
      "name": "hcds-a2-bias-in-data.ipynb",
      "provenance": [],
      "toc_visible": true
    },
    "kernelspec": {
      "name": "python3",
      "display_name": "Python 3"
    }
  },
  "cells": [
    {
      "cell_type": "markdown",
      "metadata": {
        "id": "q7-QL5Fh6PmO"
      },
      "source": [
        "#**A2: Bias in Data**"
      ]
    },
    {
      "cell_type": "markdown",
      "metadata": {
        "id": "t1I2u5Xh6J7N"
      },
      "source": [
        "The goal of this assignment is to identify what, if any, sources of bias may exist in the [Wikipedia Talk corpus](https://figshare.com/projects/Wikipedia_Talk/16731) datasets, and to develop testable hypotheses about how these biases might impact the behavior of machine learning models trained on the data, when those models are used for research purposes or to power data-driven applications. "
      ]
    },
    {
      "cell_type": "markdown",
      "metadata": {
        "id": "cCN-tZOC6yU_"
      },
      "source": [
        "I have chosen to analyze the datasets for \"toxicity\" annotations https://figshare.com/articles/dataset/Wikipedia_Talk_Labels_Toxicity/4563973 and the datasets for \"personal attacks\" annotations https://figshare.com/articles/dataset/Wikipedia_Talk_Labels_Personal_Attacks/4054689 to discover if they have any source to bias that might impact the applications using them.\n"
      ]
    },
    {
      "cell_type": "markdown",
      "metadata": {
        "id": "Db2yy5UU7hsf"
      },
      "source": [
        "## **Step 1. Data Acquisition**"
      ]
    },
    {
      "cell_type": "code",
      "metadata": {
        "id": "PYGD54YD8WJf"
      },
      "source": [
        "# importing libraries to be used for analysis\n",
        "import pandas as pd\n",
        "import numpy as np\n",
        "import requests\n",
        "from zipfile import ZipFile\n",
        "import matplotlib.pyplot as plt\n",
        "import seaborn as sns"
      ],
      "execution_count": 34,
      "outputs": []
    },
    {
      "cell_type": "markdown",
      "metadata": {
        "id": "zU_fPFjw9CxG"
      },
      "source": [
        "Download Wikipedia Talk corpus from [Figshare](https://figshare.com/projects/Wikipedia_Talk/16731) for Toxicity and Personal attacks datasets"
      ]
    },
    {
      "cell_type": "code",
      "metadata": {
        "id": "rnRo7osP-Ch0"
      },
      "source": [
        "# funtion to donwload datasets\n",
        "def download_url(url, save_path, chunk_size=128):\n",
        "    r = requests.get(url, stream=True)\n",
        "    with open(save_path, 'wb') as fd:\n",
        "        for chunk in r.iter_content(chunk_size=chunk_size):\n",
        "            fd.write(chunk)        "
      ],
      "execution_count": 35,
      "outputs": []
    },
    {
      "cell_type": "code",
      "metadata": {
        "id": "NGDvlN98-4WB"
      },
      "source": [
        "# download Toxicity dataset\n",
        "download_url('https://ndownloader.figshare.com/articles/4563973/versions/2','Toxicity.zip')\n",
        "zip = ZipFile('Toxicity.zip')\n",
        "zip.extractall('Toxicity')\n",
        "\n",
        "# download Personal Attacks dataset\n",
        "download_url('https://ndownloader.figshare.com/articles/4054689/versions/6','Personal_Attacks.zip')\n",
        "zip = ZipFile('Personal_Attacks.zip')\n",
        "zip.extractall('Personal_Attacks')"
      ],
      "execution_count": 36,
      "outputs": []
    },
    {
      "cell_type": "code",
      "metadata": {
        "id": "u85U0EIp8j2M"
      },
      "source": [
        "# read data from tsv files into pandas dataframe\n",
        "toxicity_annotations_df = pd.read_csv(\"Toxicity/toxicity_annotations.tsv\", sep='\\t')\n",
        "toxicity_comments_df = pd.read_csv(\"Toxicity/toxicity_annotated_comments.tsv\", sep='\\t')\n",
        "toxicity_worker_demographics_df = pd.read_csv(\"Toxicity/toxicity_worker_demographics.tsv\", sep='\\t')\n",
        "\n",
        "attack_annotations_df = pd.read_csv(\"Personal_Attacks/attack_annotations.tsv\", sep='\\t')\n",
        "attack_comments_df = pd.read_csv(\"Personal_Attacks/attack_annotated_comments.tsv\", sep='\\t')\n",
        "attack_worker_demographics_df = pd.read_csv(\"Personal_Attacks/attack_worker_demographics.tsv\", sep='\\t')"
      ],
      "execution_count": 37,
      "outputs": []
    },
    {
      "cell_type": "markdown",
      "metadata": {
        "id": "YkehUjosCzwL"
      },
      "source": [
        "Quick check to see dataframe columns and rows to have a broad idea of data"
      ]
    },
    {
      "cell_type": "code",
      "metadata": {
        "id": "t99Cckg1BzzA",
        "outputId": "3844673a-0c89-4897-b486-7f28fa783939",
        "colab": {
          "base_uri": "https://localhost:8080/",
          "height": 204
        }
      },
      "source": [
        "# check toxicity dataframes \n",
        "toxicity_worker_demographics_df.head(5)"
      ],
      "execution_count": 38,
      "outputs": [
        {
          "output_type": "execute_result",
          "data": {
            "text/html": [
              "<div>\n",
              "<style scoped>\n",
              "    .dataframe tbody tr th:only-of-type {\n",
              "        vertical-align: middle;\n",
              "    }\n",
              "\n",
              "    .dataframe tbody tr th {\n",
              "        vertical-align: top;\n",
              "    }\n",
              "\n",
              "    .dataframe thead th {\n",
              "        text-align: right;\n",
              "    }\n",
              "</style>\n",
              "<table border=\"1\" class=\"dataframe\">\n",
              "  <thead>\n",
              "    <tr style=\"text-align: right;\">\n",
              "      <th></th>\n",
              "      <th>worker_id</th>\n",
              "      <th>gender</th>\n",
              "      <th>english_first_language</th>\n",
              "      <th>age_group</th>\n",
              "      <th>education</th>\n",
              "    </tr>\n",
              "  </thead>\n",
              "  <tbody>\n",
              "    <tr>\n",
              "      <th>0</th>\n",
              "      <td>85</td>\n",
              "      <td>female</td>\n",
              "      <td>0</td>\n",
              "      <td>18-30</td>\n",
              "      <td>bachelors</td>\n",
              "    </tr>\n",
              "    <tr>\n",
              "      <th>1</th>\n",
              "      <td>1617</td>\n",
              "      <td>female</td>\n",
              "      <td>0</td>\n",
              "      <td>45-60</td>\n",
              "      <td>bachelors</td>\n",
              "    </tr>\n",
              "    <tr>\n",
              "      <th>2</th>\n",
              "      <td>1394</td>\n",
              "      <td>female</td>\n",
              "      <td>0</td>\n",
              "      <td>NaN</td>\n",
              "      <td>bachelors</td>\n",
              "    </tr>\n",
              "    <tr>\n",
              "      <th>3</th>\n",
              "      <td>311</td>\n",
              "      <td>male</td>\n",
              "      <td>0</td>\n",
              "      <td>30-45</td>\n",
              "      <td>bachelors</td>\n",
              "    </tr>\n",
              "    <tr>\n",
              "      <th>4</th>\n",
              "      <td>1980</td>\n",
              "      <td>male</td>\n",
              "      <td>0</td>\n",
              "      <td>45-60</td>\n",
              "      <td>masters</td>\n",
              "    </tr>\n",
              "  </tbody>\n",
              "</table>\n",
              "</div>"
            ],
            "text/plain": [
              "   worker_id  gender  english_first_language age_group  education\n",
              "0         85  female                       0     18-30  bachelors\n",
              "1       1617  female                       0     45-60  bachelors\n",
              "2       1394  female                       0       NaN  bachelors\n",
              "3        311    male                       0     30-45  bachelors\n",
              "4       1980    male                       0     45-60    masters"
            ]
          },
          "metadata": {
            "tags": []
          },
          "execution_count": 38
        }
      ]
    },
    {
      "cell_type": "code",
      "metadata": {
        "id": "qzNkRVzJCK_B",
        "outputId": "3717c531-9ab3-41af-8c2f-3a1f8bc4815f",
        "colab": {
          "base_uri": "https://localhost:8080/",
          "height": 204
        }
      },
      "source": [
        "# check personal attacks dataframes \n",
        "attack_comments_df.head(5)"
      ],
      "execution_count": 39,
      "outputs": [
        {
          "output_type": "execute_result",
          "data": {
            "text/html": [
              "<div>\n",
              "<style scoped>\n",
              "    .dataframe tbody tr th:only-of-type {\n",
              "        vertical-align: middle;\n",
              "    }\n",
              "\n",
              "    .dataframe tbody tr th {\n",
              "        vertical-align: top;\n",
              "    }\n",
              "\n",
              "    .dataframe thead th {\n",
              "        text-align: right;\n",
              "    }\n",
              "</style>\n",
              "<table border=\"1\" class=\"dataframe\">\n",
              "  <thead>\n",
              "    <tr style=\"text-align: right;\">\n",
              "      <th></th>\n",
              "      <th>rev_id</th>\n",
              "      <th>comment</th>\n",
              "      <th>year</th>\n",
              "      <th>logged_in</th>\n",
              "      <th>ns</th>\n",
              "      <th>sample</th>\n",
              "      <th>split</th>\n",
              "    </tr>\n",
              "  </thead>\n",
              "  <tbody>\n",
              "    <tr>\n",
              "      <th>0</th>\n",
              "      <td>37675</td>\n",
              "      <td>`-NEWLINE_TOKENThis is not ``creative``.  Thos...</td>\n",
              "      <td>2002</td>\n",
              "      <td>False</td>\n",
              "      <td>article</td>\n",
              "      <td>random</td>\n",
              "      <td>train</td>\n",
              "    </tr>\n",
              "    <tr>\n",
              "      <th>1</th>\n",
              "      <td>44816</td>\n",
              "      <td>`NEWLINE_TOKENNEWLINE_TOKEN:: the term ``stand...</td>\n",
              "      <td>2002</td>\n",
              "      <td>False</td>\n",
              "      <td>article</td>\n",
              "      <td>random</td>\n",
              "      <td>train</td>\n",
              "    </tr>\n",
              "    <tr>\n",
              "      <th>2</th>\n",
              "      <td>49851</td>\n",
              "      <td>NEWLINE_TOKENNEWLINE_TOKENTrue or false, the s...</td>\n",
              "      <td>2002</td>\n",
              "      <td>False</td>\n",
              "      <td>article</td>\n",
              "      <td>random</td>\n",
              "      <td>train</td>\n",
              "    </tr>\n",
              "    <tr>\n",
              "      <th>3</th>\n",
              "      <td>89320</td>\n",
              "      <td>Next, maybe you could work on being less cond...</td>\n",
              "      <td>2002</td>\n",
              "      <td>True</td>\n",
              "      <td>article</td>\n",
              "      <td>random</td>\n",
              "      <td>dev</td>\n",
              "    </tr>\n",
              "    <tr>\n",
              "      <th>4</th>\n",
              "      <td>93890</td>\n",
              "      <td>This page will need disambiguation.</td>\n",
              "      <td>2002</td>\n",
              "      <td>True</td>\n",
              "      <td>article</td>\n",
              "      <td>random</td>\n",
              "      <td>train</td>\n",
              "    </tr>\n",
              "  </tbody>\n",
              "</table>\n",
              "</div>"
            ],
            "text/plain": [
              "   rev_id                                            comment  ...  sample  split\n",
              "0   37675  `-NEWLINE_TOKENThis is not ``creative``.  Thos...  ...  random  train\n",
              "1   44816  `NEWLINE_TOKENNEWLINE_TOKEN:: the term ``stand...  ...  random  train\n",
              "2   49851  NEWLINE_TOKENNEWLINE_TOKENTrue or false, the s...  ...  random  train\n",
              "3   89320   Next, maybe you could work on being less cond...  ...  random    dev\n",
              "4   93890               This page will need disambiguation.   ...  random  train\n",
              "\n",
              "[5 rows x 7 columns]"
            ]
          },
          "metadata": {
            "tags": []
          },
          "execution_count": 39
        }
      ]
    },
    {
      "cell_type": "code",
      "metadata": {
        "id": "vC7FkqzxCrqb",
        "outputId": "2cc53172-37ed-4e7c-de5e-ae07cde74bb1",
        "colab": {
          "base_uri": "https://localhost:8080/",
          "height": 204
        }
      },
      "source": [
        "attack_annotations_df.head(5)"
      ],
      "execution_count": 40,
      "outputs": [
        {
          "output_type": "execute_result",
          "data": {
            "text/html": [
              "<div>\n",
              "<style scoped>\n",
              "    .dataframe tbody tr th:only-of-type {\n",
              "        vertical-align: middle;\n",
              "    }\n",
              "\n",
              "    .dataframe tbody tr th {\n",
              "        vertical-align: top;\n",
              "    }\n",
              "\n",
              "    .dataframe thead th {\n",
              "        text-align: right;\n",
              "    }\n",
              "</style>\n",
              "<table border=\"1\" class=\"dataframe\">\n",
              "  <thead>\n",
              "    <tr style=\"text-align: right;\">\n",
              "      <th></th>\n",
              "      <th>rev_id</th>\n",
              "      <th>worker_id</th>\n",
              "      <th>quoting_attack</th>\n",
              "      <th>recipient_attack</th>\n",
              "      <th>third_party_attack</th>\n",
              "      <th>other_attack</th>\n",
              "      <th>attack</th>\n",
              "    </tr>\n",
              "  </thead>\n",
              "  <tbody>\n",
              "    <tr>\n",
              "      <th>0</th>\n",
              "      <td>37675</td>\n",
              "      <td>1362</td>\n",
              "      <td>0.0</td>\n",
              "      <td>0.0</td>\n",
              "      <td>0.0</td>\n",
              "      <td>0.0</td>\n",
              "      <td>0.0</td>\n",
              "    </tr>\n",
              "    <tr>\n",
              "      <th>1</th>\n",
              "      <td>37675</td>\n",
              "      <td>2408</td>\n",
              "      <td>0.0</td>\n",
              "      <td>0.0</td>\n",
              "      <td>0.0</td>\n",
              "      <td>0.0</td>\n",
              "      <td>0.0</td>\n",
              "    </tr>\n",
              "    <tr>\n",
              "      <th>2</th>\n",
              "      <td>37675</td>\n",
              "      <td>1493</td>\n",
              "      <td>0.0</td>\n",
              "      <td>0.0</td>\n",
              "      <td>0.0</td>\n",
              "      <td>0.0</td>\n",
              "      <td>0.0</td>\n",
              "    </tr>\n",
              "    <tr>\n",
              "      <th>3</th>\n",
              "      <td>37675</td>\n",
              "      <td>1439</td>\n",
              "      <td>0.0</td>\n",
              "      <td>0.0</td>\n",
              "      <td>0.0</td>\n",
              "      <td>0.0</td>\n",
              "      <td>0.0</td>\n",
              "    </tr>\n",
              "    <tr>\n",
              "      <th>4</th>\n",
              "      <td>37675</td>\n",
              "      <td>170</td>\n",
              "      <td>0.0</td>\n",
              "      <td>0.0</td>\n",
              "      <td>0.0</td>\n",
              "      <td>0.0</td>\n",
              "      <td>0.0</td>\n",
              "    </tr>\n",
              "  </tbody>\n",
              "</table>\n",
              "</div>"
            ],
            "text/plain": [
              "   rev_id  worker_id  quoting_attack  ...  third_party_attack  other_attack  attack\n",
              "0   37675       1362             0.0  ...                 0.0           0.0     0.0\n",
              "1   37675       2408             0.0  ...                 0.0           0.0     0.0\n",
              "2   37675       1493             0.0  ...                 0.0           0.0     0.0\n",
              "3   37675       1439             0.0  ...                 0.0           0.0     0.0\n",
              "4   37675        170             0.0  ...                 0.0           0.0     0.0\n",
              "\n",
              "[5 rows x 7 columns]"
            ]
          },
          "metadata": {
            "tags": []
          },
          "execution_count": 40
        }
      ]
    },
    {
      "cell_type": "markdown",
      "metadata": {
        "id": "ncVu2ppNCZex"
      },
      "source": [
        "## **Step 2. Data Analysis**"
      ]
    },
    {
      "cell_type": "markdown",
      "metadata": {
        "id": "xWvSWLKBDpE6"
      },
      "source": [
        "#### **Analysis 1: How well does the demographic profile of the crowdworkers match that of the general population?**"
      ]
    },
    {
      "cell_type": "markdown",
      "metadata": {
        "id": "O-cGcExAECWJ"
      },
      "source": [
        "We will study the demographics of annotation workers for both Toxicity and Personal Attacks datasets and see if they are representative of the general population. This is important because the manner in which the sampling of workers was done can lead to biases."
      ]
    },
    {
      "cell_type": "markdown",
      "metadata": {
        "id": "Gke9t9yBgKFg"
      },
      "source": [
        "#### **Demographic analysis of annotation workers**"
      ]
    },
    {
      "cell_type": "markdown",
      "metadata": {
        "id": "i4VrnrIUmIYz"
      },
      "source": [
        "**Gender distribution of Toxicity annotation workers**"
      ]
    },
    {
      "cell_type": "code",
      "metadata": {
        "id": "WV8YHCSFCV2C",
        "outputId": "3fa48b7a-4e78-41bd-8d51-836dd706208d",
        "colab": {
          "base_uri": "https://localhost:8080/",
          "height": 264
        }
      },
      "source": [
        "# pie plot to see gender distribution of toxicity workers\n",
        "fig1, ax1 = plt.subplots()\n",
        "ax1.pie(toxicity_worker_demographics_df['gender'].value_counts(), autopct='%1.2f%%',\n",
        "        shadow=True, startangle=90, labels=list(set(toxicity_worker_demographics_df['gender'])))\n",
        "ax1.axis('equal')  # Equal aspect ratio ensures that pie is drawn as a circle.\n",
        "plt.title('Gender proportions of Toxicity annotaion workers')\n",
        "plt.savefig('Figures/toxicity_workers_gender')\n",
        "plt.show()"
      ],
      "execution_count": 41,
      "outputs": [
        {
          "output_type": "display_data",
          "data": {
            "image/png": "[encoded data removed]",
            "text/plain": [
              "<Figure size 432x288 with 1 Axes>"
            ]
          },
          "metadata": {
            "tags": []
          }
        }
      ]
    },
    {
      "cell_type": "markdown",
      "metadata": {
        "id": "NyjtoFv-lJ8e"
      },
      "source": [
        "The percentage of males(64.8%) is way higher than females(35.17%). The general population is much more balanced with a gender ratio close to 1:1 (101 males to 100 females in 2018). So the worker population is not representative of the general population in terms of gender.\n",
        "\n"
      ]
    },
    {
      "cell_type": "markdown",
      "metadata": {
        "id": "gT7zeDawmWKv"
      },
      "source": [
        "**Gender distribution of Personal Attacks annotation workers**"
      ]
    },
    {
      "cell_type": "code",
      "metadata": {
        "id": "ZziwaKUOhSep",
        "outputId": "6ed4e907-d623-437a-e984-bf8fcc679485",
        "colab": {
          "base_uri": "https://localhost:8080/",
          "height": 264
        }
      },
      "source": [
        "# pie plot to see gender distribution of toxicity workers\n",
        "fig1, ax1 = plt.subplots()\n",
        "ax1.pie(attack_worker_demographics_df['gender'].value_counts(), autopct='%1.2f%%',\n",
        "        shadow=True, startangle=90, labels=list(set(attack_worker_demographics_df['gender'])))\n",
        "ax1.axis('equal')  # Equal aspect ratio ensures that pie is drawn as a circle.\n",
        "plt.title('Gender proportions of Personal Attack annotaion workers')\n",
        "plt.savefig('Figures/attack_workers_gender')\n",
        "plt.show()"
      ],
      "execution_count": 42,
      "outputs": [
        {
          "output_type": "display_data",
          "data": {
            "image/png": "[encoded data removed]",
            "text/plain": [
              "<Figure size 432x288 with 1 Axes>"
            ]
          },
          "metadata": {
            "tags": []
          }
        }
      ]
    },
    {
      "cell_type": "markdown",
      "metadata": {
        "id": "U7inKdUImkKO"
      },
      "source": [
        "We see similar mismatch in gender ratio for personal attack annotation workers compared to general population."
      ]
    },
    {
      "cell_type": "markdown",
      "metadata": {
        "id": "F18UkbPimz19"
      },
      "source": [
        "**Distribution of annotation workers based on first language**"
      ]
    },
    {
      "cell_type": "code",
      "metadata": {
        "id": "wdejFUzNmjSe",
        "outputId": "16d0e3fe-9fd6-4cc0-dfa7-b0c5fce9f291",
        "colab": {
          "base_uri": "https://localhost:8080/",
          "height": 241
        }
      },
      "source": [
        "# bar chart of annotation workers based on first languague\n",
        "fig = plt.figure(figsize =(10, 3))\n",
        "plt.subplot(121)\n",
        "objects = [\"Other\",\"English\"]\n",
        "y_pos = np.arange(len(objects))\n",
        "x_pos = toxicity_worker_demographics_df['english_first_language'].value_counts()\n",
        "\n",
        "plt.barh(y_pos, x_pos, align='center', alpha=0.5)\n",
        "plt.yticks(y_pos, objects)\n",
        "plt.xlabel('Count of workers')\n",
        "plt.title('First language of Toxicity annotaion workers')\n",
        "plt.savefig('Figures/toxicity_workers_language')\n",
        "\n",
        "plt.subplot(122)\n",
        "x_pos = attack_worker_demographics_df['english_first_language'].value_counts()\n",
        "plt.barh(y_pos, x_pos, align='center', alpha=0.5)\n",
        "plt.yticks(y_pos, objects)\n",
        "plt.xlabel('Count of workers')\n",
        "plt.title('First language of Personal attack annotaion workers')\n",
        "plt.savefig('Figures/attack_workers_language')\n",
        "plt.show()"
      ],
      "execution_count": 43,
      "outputs": [
        {
          "output_type": "display_data",
          "data": {
            "image/png": "[encoded data removed]",
            "text/plain": [
              "<Figure size 720x216 with 2 Axes>"
            ]
          },
          "metadata": {
            "tags": [],
            "needs_background": "light"
          }
        }
      ]
    },
    {
      "cell_type": "markdown",
      "metadata": {
        "id": "c7_DlRvKrGIX"
      },
      "source": [
        "We see majority of workers do not have English as their first language, this will result in poor annotations where some words do not make sense to the workers but might be toxic. The success of annotations is heavily contingent on the kind of training provided to workers before the annotation task."
      ]
    },
    {
      "cell_type": "markdown",
      "metadata": {
        "id": "aYR32KTcsMbM"
      },
      "source": [
        "Next, we see if the proportions of workers by their first language are representative of the general population."
      ]
    },
    {
      "cell_type": "code",
      "metadata": {
        "id": "TI1Z49Skqbwu",
        "outputId": "b91a6d97-3c72-40f2-ca6b-d235e64fb1fb",
        "colab": {
          "base_uri": "https://localhost:8080/",
          "height": 68
        }
      },
      "source": [
        "# percentage of toxicity annotation workers by their first language\n",
        "tox_speakers = toxicity_worker_demographics_df['english_first_language'].value_counts()\n",
        "tox_speakers/tox_speakers.sum()"
      ],
      "execution_count": 44,
      "outputs": [
        {
          "output_type": "execute_result",
          "data": {
            "text/plain": [
              "0    0.814536\n",
              "1    0.185464\n",
              "Name: english_first_language, dtype: float64"
            ]
          },
          "metadata": {
            "tags": []
          },
          "execution_count": 44
        }
      ]
    },
    {
      "cell_type": "code",
      "metadata": {
        "id": "Dg3Ap7H9snpL",
        "outputId": "2297475f-9d61-496a-a0a5-95d93cde2843",
        "colab": {
          "base_uri": "https://localhost:8080/",
          "height": 68
        }
      },
      "source": [
        "# percentage of personal attacks annotation workers by their first language\n",
        "attack_speakers = attack_worker_demographics_df['english_first_language'].value_counts()\n",
        "attack_speakers/attack_speakers.sum()"
      ],
      "execution_count": 45,
      "outputs": [
        {
          "output_type": "execute_result",
          "data": {
            "text/plain": [
              "0    0.816438\n",
              "1    0.183562\n",
              "Name: english_first_language, dtype: float64"
            ]
          },
          "metadata": {
            "tags": []
          },
          "execution_count": 45
        }
      ]
    },
    {
      "cell_type": "markdown",
      "metadata": {
        "id": "1BMmtInCsVWr"
      },
      "source": [
        "We see that in both datasets the proportion of annotation workers by the first language is the same and is also representative of the general population in the world where native English speakers are in minority."
      ]
    },
    {
      "cell_type": "markdown",
      "metadata": {
        "id": "6xvizwhPu9H9"
      },
      "source": [
        "**Distribution of Toxicity annotation workers based on education level**"
      ]
    },
    {
      "cell_type": "code",
      "metadata": {
        "id": "wvGmv0lZxdu5",
        "outputId": "c9a54ac2-f94e-4cff-fc24-9491ec001aae",
        "colab": {
          "base_uri": "https://localhost:8080/",
          "height": 153
        }
      },
      "source": [
        "# percentage of toxicity annotation workers by their education level\n",
        "tox_education = toxicity_worker_demographics_df['education'].value_counts()\n",
        "tox_education/tox_education.sum()"
      ],
      "execution_count": 46,
      "outputs": [
        {
          "output_type": "execute_result",
          "data": {
            "text/plain": [
              "bachelors       0.401281\n",
              "hs              0.285714\n",
              "masters         0.152047\n",
              "professional    0.122807\n",
              "some            0.025898\n",
              "doctorate       0.011417\n",
              "none            0.000835\n",
              "Name: education, dtype: float64"
            ]
          },
          "metadata": {
            "tags": []
          },
          "execution_count": 46
        }
      ]
    },
    {
      "cell_type": "code",
      "metadata": {
        "id": "lGdsyCsFz8DL",
        "outputId": "5cb7bf27-330d-4ab4-fcc4-5bebf978994f",
        "colab": {
          "base_uri": "https://localhost:8080/",
          "height": 295
        }
      },
      "source": [
        "# bar chart of Toxicity annotation workers based on education level\n",
        "objects = ['bachelors', 'hs', 'masters', 'professional', 'some', 'doctorate', 'none']\n",
        "y_pos = np.arange(len(objects))\n",
        "x_pos = toxicity_worker_demographics_df['education'].value_counts()\n",
        "\n",
        "plt.barh(y_pos, x_pos, align='center', alpha=0.5)\n",
        "plt.yticks(y_pos, objects)\n",
        "plt.xlabel('Count of workers')\n",
        "plt.title('Educatoin level of Toxicity annotaion workers')\n",
        "plt.savefig('Figures/toxicity_workers_education')\n",
        "plt.show()"
      ],
      "execution_count": 47,
      "outputs": [
        {
          "output_type": "display_data",
          "data": {
            "image/png": "[encoded data removed]",
            "text/plain": [
              "<Figure size 432x288 with 1 Axes>"
            ]
          },
          "metadata": {
            "tags": [],
            "needs_background": "light"
          }
        }
      ]
    },
    {
      "cell_type": "markdown",
      "metadata": {
        "id": "pPcesoe6vFu5"
      },
      "source": [
        "We see that majority of toxicity annotation workers are highly educated with most of them having bachelor’s, professional, or master’s level of education. This is not representative of the general population where very few people have college degrees. This might lead to failure to identify some informal and unliterary words spoken by lesser educated people and in certain communities that are not represented by the workers. Again, the success of annotations is heavily contingent on the kind of training provided to workers before the annotation task.\n",
        "\n"
      ]
    },
    {
      "cell_type": "markdown",
      "metadata": {
        "id": "xSc1eXQow7HD"
      },
      "source": [
        "**Distribution of Personal attack annotation workers based on education level**"
      ]
    },
    {
      "cell_type": "code",
      "metadata": {
        "id": "tMwfJv9-0u67",
        "outputId": "da3785e0-12fc-40e3-e75b-ee4ef69bf77b",
        "colab": {
          "base_uri": "https://localhost:8080/",
          "height": 153
        }
      },
      "source": [
        "# percentage of personal attack annotation workers by their education level\n",
        "attack_education = attack_worker_demographics_df['education'].value_counts()\n",
        "attack_education/attack_education.sum()"
      ],
      "execution_count": 48,
      "outputs": [
        {
          "output_type": "execute_result",
          "data": {
            "text/plain": [
              "bachelors       0.393607\n",
              "hs              0.288128\n",
              "masters         0.175799\n",
              "professional    0.110959\n",
              "some            0.021918\n",
              "doctorate       0.009132\n",
              "none            0.000457\n",
              "Name: education, dtype: float64"
            ]
          },
          "metadata": {
            "tags": []
          },
          "execution_count": 48
        }
      ]
    },
    {
      "cell_type": "code",
      "metadata": {
        "id": "9DK7ydTPxAyB",
        "outputId": "383042ac-69e1-4ebf-c4b8-e576757747ce",
        "colab": {
          "base_uri": "https://localhost:8080/",
          "height": 295
        }
      },
      "source": [
        "# bar chart of Personal attack annotation workers based on education level\n",
        "objects = ['bachelors', 'hs', 'masters', 'professional', 'some', 'doctorate', 'none']\n",
        "y_pos = np.arange(len(objects))\n",
        "x_pos = attack_worker_demographics_df['education'].value_counts()\n",
        "\n",
        "plt.barh(y_pos, x_pos, align='center', alpha=0.5)\n",
        "plt.yticks(y_pos, objects)\n",
        "plt.xlabel('Count of workers')\n",
        "plt.title('Educatoin level of Personal attack annotaion workers')\n",
        "plt.savefig('Figures/attack_workers_education')\n",
        "plt.show()"
      ],
      "execution_count": 49,
      "outputs": [
        {
          "output_type": "display_data",
          "data": {
            "image/png": "[encoded data removed]",
            "text/plain": [
              "<Figure size 432x288 with 1 Axes>"
            ]
          },
          "metadata": {
            "tags": [],
            "needs_background": "light"
          }
        }
      ]
    },
    {
      "cell_type": "markdown",
      "metadata": {
        "id": "WdnpoJlG1WLA"
      },
      "source": [
        "We see similar distribution of workers based on education level as was for the toxicity dataset. So again there might be failures to identify some informal and unliterary words spoken by lesser educated people and in certain communities which are not represented by the workers."
      ]
    },
    {
      "cell_type": "markdown",
      "metadata": {
        "id": "z_j4pANkHEsh"
      },
      "source": [
        "**Distribution of workers based on age-group**"
      ]
    },
    {
      "cell_type": "code",
      "metadata": {
        "id": "l6y257boHTOr",
        "outputId": "57270d20-8157-4a78-8f54-a7d505915752",
        "colab": {
          "base_uri": "https://localhost:8080/",
          "height": 119
        }
      },
      "source": [
        "# percentage of toxicity annotation workers by their age-group\n",
        "attack_education = attack_worker_demographics_df['age_group'].value_counts()\n",
        "attack_education/attack_education.sum()"
      ],
      "execution_count": 50,
      "outputs": [
        {
          "output_type": "execute_result",
          "data": {
            "text/plain": [
              "18-30       0.486775\n",
              "30-45       0.385615\n",
              "45-60       0.101160\n",
              "Under 18    0.017169\n",
              "Over 60     0.009281\n",
              "Name: age_group, dtype: float64"
            ]
          },
          "metadata": {
            "tags": []
          },
          "execution_count": 50
        }
      ]
    },
    {
      "cell_type": "code",
      "metadata": {
        "id": "NxAQIIo1HUyY",
        "outputId": "15849fce-eb89-44d6-d269-5148245e1d18",
        "colab": {
          "base_uri": "https://localhost:8080/",
          "height": 119
        }
      },
      "source": [
        "# percentage of personal attack annotation workers by their age-group\n",
        "attack_education = attack_worker_demographics_df['age_group'].value_counts()\n",
        "attack_education/attack_education.sum()"
      ],
      "execution_count": 51,
      "outputs": [
        {
          "output_type": "execute_result",
          "data": {
            "text/plain": [
              "18-30       0.486775\n",
              "30-45       0.385615\n",
              "45-60       0.101160\n",
              "Under 18    0.017169\n",
              "Over 60     0.009281\n",
              "Name: age_group, dtype: float64"
            ]
          },
          "metadata": {
            "tags": []
          },
          "execution_count": 51
        }
      ]
    },
    {
      "cell_type": "code",
      "metadata": {
        "id": "7n6LSyRJHbhy",
        "outputId": "cf96aa0b-9e5d-4867-a102-e3c4ceffee89",
        "colab": {
          "base_uri": "https://localhost:8080/",
          "height": 295
        }
      },
      "source": [
        "# bar chart for annotation workers based on age-group\n",
        "fig = plt.figure(figsize =(10, 4))\n",
        "plt.subplot(121)\n",
        "objects = ['18y-30y', '30y-45y', '45y-60y', ' Under 18y', 'Over 60y']\n",
        "y_pos = np.arange(len(objects))\n",
        "x_pos = toxicity_worker_demographics_df['age_group'].value_counts()\n",
        "\n",
        "plt.barh(y_pos, x_pos, align='center', alpha=0.5)\n",
        "plt.yticks(y_pos, objects)\n",
        "plt.xlabel('Count of workers')\n",
        "plt.title('Age-groups of Toxicity annotaion workers')\n",
        "plt.savefig('Figures/toxicity_workers_age')\n",
        "\n",
        "plt.subplot(122)\n",
        "x_pos = attack_worker_demographics_df['age_group'].value_counts()\n",
        "plt.barh(y_pos, x_pos, align='center', alpha=0.5)\n",
        "plt.yticks(y_pos, objects)\n",
        "plt.xlabel('Count of workers')\n",
        "plt.title('Age-groups of Personal attack annotaion workers')\n",
        "plt.savefig('Figures/attack_workers_age')\n",
        "plt.show()"
      ],
      "execution_count": 52,
      "outputs": [
        {
          "output_type": "display_data",
          "data": {
            "image/png": "[encoded data removed]",
            "text/plain": [
              "<Figure size 720x288 with 2 Axes>"
            ]
          },
          "metadata": {
            "tags": [],
            "needs_background": "light"
          }
        }
      ]
    },
    {
      "cell_type": "markdown",
      "metadata": {
        "id": "sbYVIh1iHMQV"
      },
      "source": [
        "The majority of workers are in the age-group '18y-30y' and '30y-45y' which is not representative of the general population since we would expect the majority population in the world to be 'Under 18'. Even the proportion of people in the age group '45y-60y' would be higher than we see in the worker population. Having more workers belonging to the age group '18y-30y' might affect the annotations as there may be personal bias in terms of workers' sensitivity towards harmful comments."
      ]
    },
    {
      "cell_type": "markdown",
      "metadata": {
        "id": "zzGoS2kuMXyb"
      },
      "source": [
        "**Conclusion of analysis 1**"
      ]
    },
    {
      "cell_type": "markdown",
      "metadata": {
        "id": "iL4W-6xNMc4n"
      },
      "source": [
        "We see that the worker demographics are way farther from the demographics of the general population in the world and hence do not represent the real world effectively. There may be varying degrees of understanding between different age-groups towards what can be considered toxic or personal attacks. Moreover, we need to know the demographics of the population who posted comments and articles which were annotated. Having such statistics would help in a better sampling of the workers who should be used for annotation purposes.<br>\n",
        "Underrepresentation of females and other genders in the Crowdflower workers is a major concern as it would lead to the risk of having a biased model that might not be effective in identifying hate speech towards certain genders and communities.<br>\n",
        "The majority of workers do not have English as their first language, this will result in poor annotations where some words do not make sense to the workers but might be used in hate speeches. <br>\n",
        "The majority of workers belonging to age groups '18y-30y' and '30y-45y' might affect the annotations as there may be personal bias in terms of workers' sensitivity towards harmful comments.<br>\n",
        "In conclusion, we can say that skewed labeler demographic distribution will have severe consequences on the quality of annotations produced, and hence models trained on such dataset will perform poorly in identifying hateful speeches targeting certain genders, communities, age-groups, languages, and cultures.\n",
        " \n",
        "\n"
      ]
    },
    {
      "cell_type": "markdown",
      "metadata": {
        "id": "brtOp-5010Nw"
      },
      "source": [
        "#### **Analysis 2: How consistent are labeling behaviors among workers with different demographic profiles?**"
      ]
    },
    {
      "cell_type": "markdown",
      "metadata": {
        "id": "FaW8EaKuSH7B"
      },
      "source": [
        "We will study the labeling behaviors among annotation workers for Toxicity datasets and see whether they are consistent among different demographic profiles. This is important because now we know that there is skewed labeler demographic distribution and we need to see if and how labeling behavior among workers varies because it would be a potential source of bias."
      ]
    },
    {
      "cell_type": "markdown",
      "metadata": {
        "id": "xkkpn0sDn5Qg"
      },
      "source": [
        "**Labeling behaviors among Toxicity annotation workers**"
      ]
    },
    {
      "cell_type": "markdown",
      "metadata": {
        "id": "WLxvlNpHjCDX"
      },
      "source": [
        "First, we join the annotation dataframe with the worker demographics dataframe for the toxicity dataset."
      ]
    },
    {
      "cell_type": "code",
      "metadata": {
        "id": "eU04voEthfLf",
        "outputId": "8d326fd2-e5cc-4a75-ac28-090bce6f9ff6",
        "colab": {
          "base_uri": "https://localhost:8080/",
          "height": 204
        }
      },
      "source": [
        "# join annotation table to demographic table for toxicity dataset\n",
        "toxicity_worker_demographics_df = toxicity_worker_demographics_df.set_index(\"worker_id\")\n",
        "toxicity_annotations_demographic = pd.merge(toxicity_annotations_df, toxicity_worker_demographics_df, left_on=\"worker_id\", right_index=True)\n",
        "# check the joined data\n",
        "toxicity_annotations_demographic.head() "
      ],
      "execution_count": 53,
      "outputs": [
        {
          "output_type": "execute_result",
          "data": {
            "text/html": [
              "<div>\n",
              "<style scoped>\n",
              "    .dataframe tbody tr th:only-of-type {\n",
              "        vertical-align: middle;\n",
              "    }\n",
              "\n",
              "    .dataframe tbody tr th {\n",
              "        vertical-align: top;\n",
              "    }\n",
              "\n",
              "    .dataframe thead th {\n",
              "        text-align: right;\n",
              "    }\n",
              "</style>\n",
              "<table border=\"1\" class=\"dataframe\">\n",
              "  <thead>\n",
              "    <tr style=\"text-align: right;\">\n",
              "      <th></th>\n",
              "      <th>rev_id</th>\n",
              "      <th>worker_id</th>\n",
              "      <th>toxicity</th>\n",
              "      <th>toxicity_score</th>\n",
              "      <th>gender</th>\n",
              "      <th>english_first_language</th>\n",
              "      <th>age_group</th>\n",
              "      <th>education</th>\n",
              "    </tr>\n",
              "  </thead>\n",
              "  <tbody>\n",
              "    <tr>\n",
              "      <th>0</th>\n",
              "      <td>2232.0</td>\n",
              "      <td>723</td>\n",
              "      <td>0</td>\n",
              "      <td>0.0</td>\n",
              "      <td>female</td>\n",
              "      <td>0</td>\n",
              "      <td>30-45</td>\n",
              "      <td>bachelors</td>\n",
              "    </tr>\n",
              "    <tr>\n",
              "      <th>71</th>\n",
              "      <td>37346.0</td>\n",
              "      <td>723</td>\n",
              "      <td>0</td>\n",
              "      <td>0.0</td>\n",
              "      <td>female</td>\n",
              "      <td>0</td>\n",
              "      <td>30-45</td>\n",
              "      <td>bachelors</td>\n",
              "    </tr>\n",
              "    <tr>\n",
              "      <th>417</th>\n",
              "      <td>227181.0</td>\n",
              "      <td>723</td>\n",
              "      <td>0</td>\n",
              "      <td>0.0</td>\n",
              "      <td>female</td>\n",
              "      <td>0</td>\n",
              "      <td>30-45</td>\n",
              "      <td>bachelors</td>\n",
              "    </tr>\n",
              "    <tr>\n",
              "      <th>4281</th>\n",
              "      <td>2810755.0</td>\n",
              "      <td>723</td>\n",
              "      <td>0</td>\n",
              "      <td>0.0</td>\n",
              "      <td>female</td>\n",
              "      <td>0</td>\n",
              "      <td>30-45</td>\n",
              "      <td>bachelors</td>\n",
              "    </tr>\n",
              "    <tr>\n",
              "      <th>10305</th>\n",
              "      <td>7270696.0</td>\n",
              "      <td>723</td>\n",
              "      <td>0</td>\n",
              "      <td>0.0</td>\n",
              "      <td>female</td>\n",
              "      <td>0</td>\n",
              "      <td>30-45</td>\n",
              "      <td>bachelors</td>\n",
              "    </tr>\n",
              "  </tbody>\n",
              "</table>\n",
              "</div>"
            ],
            "text/plain": [
              "          rev_id  worker_id  ...  age_group  education\n",
              "0         2232.0        723  ...      30-45  bachelors\n",
              "71       37346.0        723  ...      30-45  bachelors\n",
              "417     227181.0        723  ...      30-45  bachelors\n",
              "4281   2810755.0        723  ...      30-45  bachelors\n",
              "10305  7270696.0        723  ...      30-45  bachelors\n",
              "\n",
              "[5 rows x 8 columns]"
            ]
          },
          "metadata": {
            "tags": []
          },
          "execution_count": 53
        }
      ]
    },
    {
      "cell_type": "markdown",
      "metadata": {
        "id": "biJAR8UbjkaY"
      },
      "source": [
        "Now we calculate the mean toxicity score for different age-groups, different genders and different education levels."
      ]
    },
    {
      "cell_type": "markdown",
      "metadata": {
        "id": "szB2O0gxkMb-"
      },
      "source": [
        "We define new variable in the toxicity_annotations_demographic dataframe, 'mean_toxicity_score' which is mean toxicity score per worker representing the toxicity bias of the worker."
      ]
    },
    {
      "cell_type": "code",
      "metadata": {
        "id": "--gLQtFek5xZ"
      },
      "source": [
        "mean_toxicity_score = toxicity_annotations_demographic.groupby(\"worker_id\")[\"toxicity_score\"].mean()\n",
        "toxicity_worker_demographics_df[\"mean_toxicity_score\"] = mean_toxicity_score\n",
        "toxicity_worker_demographics_df.head()\n",
        "\n",
        "#save new dataframe in CSV file inside clean data folder\n",
        "toxicity_worker_demographics_df.to_csv('data/clean/toxicity_worker_demographics.csv')"
      ],
      "execution_count": 54,
      "outputs": []
    },
    {
      "cell_type": "markdown",
      "metadata": {
        "id": "8rUjzeoMw8HG"
      },
      "source": [
        "**Toxicity bias among different age-groups**"
      ]
    },
    {
      "cell_type": "code",
      "metadata": {
        "id": "ZUUMPlvVj0kG",
        "outputId": "6a5f31e2-3e4b-4663-de59-458a40e5a141",
        "colab": {
          "base_uri": "https://localhost:8080/",
          "height": 136
        }
      },
      "source": [
        "# list personal biases in age-group of toxicity annotation workers\n",
        "toxicity_worker_demographics_df.groupby(\"age_group\").mean_toxicity_score.mean()"
      ],
      "execution_count": 55,
      "outputs": [
        {
          "output_type": "execute_result",
          "data": {
            "text/plain": [
              "age_group\n",
              "18-30       0.192189\n",
              "30-45       0.236698\n",
              "45-60       0.228319\n",
              "Over 60     0.157787\n",
              "Under 18    0.282304\n",
              "Name: mean_toxicity_score, dtype: float64"
            ]
          },
          "metadata": {
            "tags": []
          },
          "execution_count": 55
        }
      ]
    },
    {
      "cell_type": "code",
      "metadata": {
        "id": "8MR3xTJzrVlq",
        "outputId": "651e11fa-a32b-4c76-b4d1-de26cc7e92b4",
        "colab": {
          "base_uri": "https://localhost:8080/",
          "height": 34
        }
      },
      "source": [
        "# Average toxicity score for all workers\n",
        "toxicity_worker_demographics_df.mean_toxicity_score.mean()"
      ],
      "execution_count": 56,
      "outputs": [
        {
          "output_type": "execute_result",
          "data": {
            "text/plain": [
              "0.21102202851976515"
            ]
          },
          "metadata": {
            "tags": []
          },
          "execution_count": 56
        }
      ]
    },
    {
      "cell_type": "markdown",
      "metadata": {
        "id": "fGngwLE2msmk"
      },
      "source": [
        "Now we plot toxicity bias distribution in different age-groups for better visualization."
      ]
    },
    {
      "cell_type": "code",
      "metadata": {
        "id": "3CRw_lqamori",
        "outputId": "6c6da7e8-018f-4ed7-82a3-5dfb6f6672e4",
        "colab": {
          "base_uri": "https://localhost:8080/",
          "height": 514
        }
      },
      "source": [
        "fig, ax = plt.subplots(figsize=(15,8))\n",
        "ax.set_title(\"Distribution of worker's mean toxicity rating, by age group\")\n",
        "sns.violinplot( x=\"mean_toxicity_score\", y=\"age_group\", data=toxicity_worker_demographics_df, ax=ax )\n",
        "plt.savefig('Figures/toxicity_bias_age')"
      ],
      "execution_count": 57,
      "outputs": [
        {
          "output_type": "display_data",
          "data": {
            "image/png": "[encoded data removed]",
            "text/plain": [
              "<Figure size 1080x576 with 1 Axes>"
            ]
          },
          "metadata": {
            "tags": [],
            "needs_background": "light"
          }
        }
      ]
    },
    {
      "cell_type": "markdown",
      "metadata": {
        "id": "fDjBGTY6sFPp"
      },
      "source": [
        "We see that the personal bias in toxicity ratings varies across different age-groups. Next, we see the proportion of annotations made by workers in different age-groups."
      ]
    },
    {
      "cell_type": "code",
      "metadata": {
        "id": "LENqA-HWrMe7",
        "outputId": "cc541fae-3181-431f-fc91-db416b6410d0",
        "colab": {
          "base_uri": "https://localhost:8080/",
          "height": 136
        }
      },
      "source": [
        "toxicity_annotation_count_by_age = toxicity_annotations_demographic.groupby(\"age_group\").rev_id.count()\n",
        "toxicity_annotation_count_by_age/toxicity_annotation_count_by_age.sum()"
      ],
      "execution_count": 58,
      "outputs": [
        {
          "output_type": "execute_result",
          "data": {
            "text/plain": [
              "age_group\n",
              "18-30       0.537462\n",
              "30-45       0.355526\n",
              "45-60       0.078266\n",
              "Over 60     0.007375\n",
              "Under 18    0.021372\n",
              "Name: rev_id, dtype: float64"
            ]
          },
          "metadata": {
            "tags": []
          },
          "execution_count": 58
        }
      ]
    },
    {
      "cell_type": "markdown",
      "metadata": {
        "id": "PAM5TPwHnzyw"
      },
      "source": [
        "We see that the worker's mean toxicity rating varies with age-group. Since more than half of the annotations are done by workers in age-group '18y-30y', whose mean toxicity ratings are lesser than the total average, we might see many annotations with lesser toxicity scores but a considerable amount of hate speech in actual comments. Also, we will see many annotations with higher toxicity scores but a lesser amount of hate speech in actual comments.\n"
      ]
    },
    {
      "cell_type": "markdown",
      "metadata": {
        "id": "kaJcWmtFxFsg"
      },
      "source": [
        "**Toxicity bias among different genders**"
      ]
    },
    {
      "cell_type": "markdown",
      "metadata": {
        "id": "I6lXy-7DvSM3"
      },
      "source": [
        "We will calculate toxicity bias in different gender groups and study its implications."
      ]
    },
    {
      "cell_type": "code",
      "metadata": {
        "id": "t5ZmSFdhu-PI",
        "outputId": "f8ec7f03-0a9f-4e47-aff0-f351024ca07b",
        "colab": {
          "base_uri": "https://localhost:8080/",
          "height": 102
        }
      },
      "source": [
        "# list toxicity bias per gender\n",
        "toxicity_worker_demographics_df.groupby(\"gender\").mean_toxicity_score.mean()"
      ],
      "execution_count": 59,
      "outputs": [
        {
          "output_type": "execute_result",
          "data": {
            "text/plain": [
              "gender\n",
              "female    0.177039\n",
              "male      0.229320\n",
              "other     0.553073\n",
              "Name: mean_toxicity_score, dtype: float64"
            ]
          },
          "metadata": {
            "tags": []
          },
          "execution_count": 59
        }
      ]
    },
    {
      "cell_type": "code",
      "metadata": {
        "id": "JRqkYrPFvgsr",
        "outputId": "c2a20713-bece-48f9-d73a-62c525a1eb6f",
        "colab": {
          "base_uri": "https://localhost:8080/",
          "height": 102
        }
      },
      "source": [
        "# proportion of annotations done per gender\n",
        "toxicity_annotation_count_by_gender = toxicity_annotations_demographic.groupby(\"gender\").rev_id.count()\n",
        "toxicity_annotation_count_by_gender/toxicity_annotation_count_by_age.sum()"
      ],
      "execution_count": 60,
      "outputs": [
        {
          "output_type": "execute_result",
          "data": {
            "text/plain": [
              "gender\n",
              "female    0.347095\n",
              "male      0.674881\n",
              "other     0.000272\n",
              "Name: rev_id, dtype: float64"
            ]
          },
          "metadata": {
            "tags": []
          },
          "execution_count": 60
        }
      ]
    },
    {
      "cell_type": "markdown",
      "metadata": {
        "id": "4US1o9CavyRk"
      },
      "source": [
        "We clearly see that 67% of annotations are done by males whose toxicity ratings are much higher than that of females. Another observation is that 'other' gender has the highest mean toxicity score but there are not enough workers in this category. Hence a model based on this dataset will fail to identify hate speeches targeted towards certain genders. "
      ]
    },
    {
      "cell_type": "markdown",
      "metadata": {
        "id": "4w4JFF4FzfGq"
      },
      "source": [
        "**Toxicity bias among workers with different first language**"
      ]
    },
    {
      "cell_type": "code",
      "metadata": {
        "id": "mu4P9MCyvws-",
        "outputId": "990d08f9-5ef6-48bb-ab53-9aad477668d6",
        "colab": {
          "base_uri": "https://localhost:8080/",
          "height": 85
        }
      },
      "source": [
        "# list toxicity bias per different first language speakers\n",
        "toxicity_worker_demographics_df.groupby(\"english_first_language\").mean_toxicity_score.mean()"
      ],
      "execution_count": 61,
      "outputs": [
        {
          "output_type": "execute_result",
          "data": {
            "text/plain": [
              "english_first_language\n",
              "0    0.205993\n",
              "1    0.233111\n",
              "Name: mean_toxicity_score, dtype: float64"
            ]
          },
          "metadata": {
            "tags": []
          },
          "execution_count": 61
        }
      ]
    },
    {
      "cell_type": "code",
      "metadata": {
        "id": "ae5mtjeyyllH",
        "outputId": "a60493d3-0e65-4c10-c7f8-841e3a582867",
        "colab": {
          "base_uri": "https://localhost:8080/",
          "height": 85
        }
      },
      "source": [
        "# proportion of annotations done per different first language speakers\n",
        "toxicity_annotation_count_by_language = toxicity_annotations_demographic.groupby(\"english_first_language\").rev_id.count()\n",
        "toxicity_annotation_count_by_language/toxicity_annotation_count_by_age.sum()"
      ],
      "execution_count": 62,
      "outputs": [
        {
          "output_type": "execute_result",
          "data": {
            "text/plain": [
              "english_first_language\n",
              "0    0.844814\n",
              "1    0.177433\n",
              "Name: rev_id, dtype: float64"
            ]
          },
          "metadata": {
            "tags": []
          },
          "execution_count": 62
        }
      ]
    },
    {
      "cell_type": "markdown",
      "metadata": {
        "id": "agZP4fJe0ZeM"
      },
      "source": [
        "As 84% annotations are done by workers who are not native speakers of English and have lesser toxicity scores than the other group who having English as their first language, it might be that certain words are being missed by these workers which would classify as being used in hate speech. A closer inspection should be done on the comments annotated by the two groups."
      ]
    },
    {
      "cell_type": "markdown",
      "metadata": {
        "id": "fD_U-Q931ct9"
      },
      "source": [
        "**Toxicity bias among workers with different education level**"
      ]
    },
    {
      "cell_type": "code",
      "metadata": {
        "id": "TpVfBqVkybdE",
        "outputId": "55fa5f73-8c25-48be-90c3-a2afe292108d",
        "colab": {
          "base_uri": "https://localhost:8080/",
          "height": 170
        }
      },
      "source": [
        "# list toxicity bias per different education level\n",
        "toxicity_worker_demographics_df.groupby(\"education\").mean_toxicity_score.mean()"
      ],
      "execution_count": 63,
      "outputs": [
        {
          "output_type": "execute_result",
          "data": {
            "text/plain": [
              "education\n",
              "bachelors       0.206167\n",
              "doctorate       0.275715\n",
              "hs              0.226393\n",
              "masters         0.184973\n",
              "none            0.529019\n",
              "professional    0.213412\n",
              "some            0.219486\n",
              "Name: mean_toxicity_score, dtype: float64"
            ]
          },
          "metadata": {
            "tags": []
          },
          "execution_count": 63
        }
      ]
    },
    {
      "cell_type": "code",
      "metadata": {
        "id": "oAFpWKvQy1XQ",
        "outputId": "6733b2f6-90d4-44cc-bdb5-6b6119afa7e1",
        "colab": {
          "base_uri": "https://localhost:8080/",
          "height": 170
        }
      },
      "source": [
        "# proportion of annotations done per different education level\n",
        "toxicity_annotation_count_by_education = toxicity_annotations_demographic.groupby(\"education\").rev_id.count()\n",
        "toxicity_annotation_count_by_education/toxicity_annotation_count_by_age.sum()"
      ],
      "execution_count": 64,
      "outputs": [
        {
          "output_type": "execute_result",
          "data": {
            "text/plain": [
              "education\n",
              "bachelors       0.409985\n",
              "doctorate       0.011068\n",
              "hs              0.289541\n",
              "masters         0.155904\n",
              "none            0.000702\n",
              "professional    0.127847\n",
              "some            0.027202\n",
              "Name: rev_id, dtype: float64"
            ]
          },
          "metadata": {
            "tags": []
          },
          "execution_count": 64
        }
      ]
    },
    {
      "cell_type": "markdown",
      "metadata": {
        "id": "TTxiobIg13su"
      },
      "source": [
        "Workers with education level 'none' have very high toxicity ratings and their representation is less. A closer inspection should be done into the comments annotated by them.\n"
      ]
    },
    {
      "cell_type": "markdown",
      "metadata": {
        "id": "zRXtGIJf2aGS"
      },
      "source": [
        "**Conclusion of analysis 2 on Toxicity dataset**"
      ]
    },
    {
      "cell_type": "markdown",
      "metadata": {
        "id": "xOf_Lf7r2g0m"
      },
      "source": [
        "We see that all the demographic factors such as age, gender, education, and language have an effect on labeling behaviors of the workers and as the worker demographics is not a representation of the real world it is a cause of concern as it leads to uneven scoring of toxicity of the same comment by different workers. Both cases are possible in such a scenario where we will see examples of annotations with lesser toxicity score but a considerable amount of hate speech in actual comments and also the examples of annotations with higher toxicity score but lesser amount of hate speech in actual comments.\n"
      ]
    },
    {
      "cell_type": "markdown",
      "metadata": {
        "id": "7ZTK6TBe49zH"
      },
      "source": [
        "## **Step 3. Implications for research and product development**"
      ]
    },
    {
      "cell_type": "markdown",
      "metadata": {
        "id": "YUDhAaWJ62eL"
      },
      "source": [
        "Q1: What are some other contexts or applications where you would expect the Perspective API to perform particularly well, or particularly poorly? Why?"
      ]
    },
    {
      "cell_type": "markdown",
      "metadata": {
        "id": "Qf9ORiXa69go"
      },
      "source": [
        "A1: Since the annotations are done on comments in English, we can expect the Perspective API to work well with identifying hate speeches in the English language. It will work poorly when applied to hate speech detection in other languages as the model performance is very heavily dependent on words used in annotated comments. Also since the annotations target only three types of hate speech(toxic, aggressive, personal attack), it will work well only in this context and would not be able to identify any other type of hate speech such as a threat. Also, with time as new slurs would emerge, the model will perform poorly to identify any new expressions of hate speech."
      ]
    },
    {
      "cell_type": "markdown",
      "metadata": {
        "id": "ksez2htP6_7W"
      },
      "source": [
        "Q2: What are some kinds of hostile speech that would be difficult to accurately detect using the approach used to train the Perspective API models? "
      ]
    },
    {
      "cell_type": "markdown",
      "metadata": {
        "id": "7ZIDSd6k7ABW"
      },
      "source": [
        "A2: As in the previous answer, hostile speech that is in a language other than English or is used in a context other than being toxic, personal attack, or aggression would be difficult to detect by the models trained on this annotated data. Also, the dynamic nature of hostile speech makes it even more difficult to identify any new hate speech expressions that emerge with time. The skewed labeler demographic distribution does not represent well certain genders, languages, cultures and therefore hostile speech expression used by such population will not be identified by the models trained on this annotated data."
      ]
    },
    {
      "cell_type": "markdown",
      "metadata": {
        "id": "qzCJ5FRZ6__C"
      },
      "source": [
        "Q3: Imagine you are one of the Google data scientists who maintain the Perspective API. If you wanted to improve the model or the API itself to make it work better for any of these purposes, how should they go about doing that?"
      ]
    },
    {
      "cell_type": "markdown",
      "metadata": {
        "id": "VfaWkjpu7SGE"
      },
      "source": [
        "A3: Clearly, there is a need for better demographic distribution in the labelers that is representative of the general population. Also, different minority genders, communities, and other language speakers should be identified and used as part of the labeling workforce. The process of annotations should be iterative and at every iteration, there should be reviewers in the loop to have a closer look at the annotations made by different demographic profiles to be on the lookout for any personal biases. A strong and clear set of rules must be identified and given as guidelines to the labelers. The Perspective API or any such model is as good as the data it is trained on and as such, I would focus on improving the quality of the annotations."
      ]
    }
  ]
}